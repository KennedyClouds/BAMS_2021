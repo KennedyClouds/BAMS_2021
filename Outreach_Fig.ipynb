{
 "cells": [
  {
   "cell_type": "code",
   "execution_count": null,
   "id": "hybrid-engineer",
   "metadata": {},
   "outputs": [],
   "source": [
    "%matplotlib inline\n",
    "import matplotlib.pyplot as plt\n",
    "import matplotlib.image as mpimg\n",
    "import numpy as np\n",
    "\n",
    "BASE_DIR = 'pictures/'\n",
    "files = ['blizzard_tank.jpg','prism.jpg','crystal_matching.jpg','snowflake_art.jpg',]\n",
    "labels = ['(a)','(b)','(c)','(d)']\n",
    "clabels = ['black','white','black','white']\n",
    "#titles = ['1537','1737','1937','2137','2217','2312']\n",
    "fig = plt.figure(figsize=(8,6),dpi=300)\n",
    "for i in range(1, 5):\n",
    "    fig.add_subplot(2, 2, i)\n",
    "    img=mpimg.imread(BASE_DIR+files[i-1])\n",
    "    imgplot = plt.imshow(img)\n",
    "    plt.axis('off')\n",
    "    plt.text(10, 260, labels[i-1], fontsize=12,weight='bold',color=clabels[i-1])\n",
    "    #plt.title(titles[i-1]+' UTC - 24 Feb. 2019',fontweight=\"bold\",fontsize=12)\n",
    "    \n",
    "plt.subplots_adjust(hspace = 0.04, wspace = 0.01)\n",
    "plt.savefig('outreach.png', dpi=300, bbox_inches='tight')\n",
    "plt.savefig('outreach', format='pdf', bbox_inches='tight')\n",
    "plt.show()"
   ]
  },
  {
   "cell_type": "code",
   "execution_count": null,
   "id": "english-union",
   "metadata": {},
   "outputs": [],
   "source": []
  }
 ],
 "metadata": {
  "kernelspec": {
   "display_name": "Python 3",
   "language": "python",
   "name": "python3"
  },
  "language_info": {
   "codemirror_mode": {
    "name": "ipython",
    "version": 3
   },
   "file_extension": ".py",
   "mimetype": "text/x-python",
   "name": "python",
   "nbconvert_exporter": "python",
   "pygments_lexer": "ipython3",
   "version": "3.8.6"
  }
 },
 "nbformat": 4,
 "nbformat_minor": 5
}
